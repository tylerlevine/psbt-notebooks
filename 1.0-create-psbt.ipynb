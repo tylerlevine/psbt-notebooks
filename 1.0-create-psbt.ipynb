{
 "cells": [
  {
   "cell_type": "markdown",
   "metadata": {},
   "source": [
    "# What is a Partially Signed Bitcoin Transaction?\n",
    "\n",
    "A Partially Signed Bitcoin Transaction (PSBT) is a transaction interchange format which allows multiple users or devices to work together to sign a transaction.\n",
    "\n",
    "# Creating a PSBT\n",
    "\n",
    "Since 0.17, Bitcoin Core has had support for RPC commands for manipulating PSBTs, and we will use these throughout this notebook. The RPCs are exposed as functions on the `node` instance, so it's easy to use them in the test framework.\n",
    "\n",
    "## Starting up the test node\n",
    "\n",
    "Run the next cell to start an instance of bitcoind running in regtest mode."
   ]
  },
  {
   "cell_type": "code",
   "execution_count": null,
   "metadata": {},
   "outputs": [],
   "source": [
    "import util\n",
    "\n",
    "# Start node\n",
    "test = util.TestWrapper()\n",
    "test.setup()\n",
    "node = test.nodes[0]\n",
    "\n",
    "print(node.getblockchaininfo()['chain'])"
   ]
  },
  {
   "cell_type": "markdown",
   "metadata": {},
   "source": [
    "## Creating an address\n",
    "\n",
    "First, let's create an address to receive at."
   ]
  },
  {
   "cell_type": "code",
   "execution_count": null,
   "metadata": {},
   "outputs": [],
   "source": [
    "address = node.getnewaddress(address_type=\"bech32\")\n",
    "print(f'receive address: {address}')"
   ]
  },
  {
   "cell_type": "markdown",
   "metadata": {},
   "source": [
    "## Getting some coins\n",
    "\n",
    "Now that the node is up and running and we have a receive address, we need some coins to play with."
   ]
  },
  {
   "cell_type": "code",
   "execution_count": null,
   "metadata": {},
   "outputs": [],
   "source": [
    "# Generate blocks to create coins. Need to generate 101 blocks due to coinbase maturity rule\n",
    "txs = node.generatetoaddress(101, address)"
   ]
  },
  {
   "cell_type": "code",
   "execution_count": null,
   "metadata": {},
   "outputs": [],
   "source": [
    "assert(node.getbalance() == 50)\n",
    "unspent = node.listunspent(1)[0]\n",
    "inputs = [{\"txid\": unspent[\"txid\"], \"vout\": unspent[\"vout\"]}]\n",
    "print(inputs)"
   ]
  },
  {
   "cell_type": "markdown",
   "metadata": {},
   "source": [
    "We have some coins, so now let's create another address to send to."
   ]
  },
  {
   "cell_type": "code",
   "execution_count": null,
   "metadata": {},
   "outputs": [],
   "source": [
    "second_address = node.getnewaddress(address_type=\"bech32\")\n",
    "print(f'second address: {second_address}')"
   ]
  },
  {
   "cell_type": "markdown",
   "metadata": {},
   "source": [
    "## Creating the PSBT\n",
    "\n",
    "Let's create a PSBT which sends 25 of our coins to our second address. The [`walletcreatefundedpsbt`](https://bitcoincore.org/en/doc/0.18.0/rpc/wallet/walletcreatefundedpsbt/) RPC makes that pretty simple.\n",
    "\n",
    "The arguments are the txid:vout of the input transaction, the address to send to, locktime (zero in this case), and transaction options (fee rate is set to zero for simplicity).\n"
   ]
  },
  {
   "cell_type": "code",
   "execution_count": null,
   "metadata": {},
   "outputs": [],
   "source": [
    "psbt = node.walletcreatefundedpsbt(inputs, [{ second_address: 25 }])\n",
    "print(psbt)"
   ]
  },
  {
   "cell_type": "markdown",
   "metadata": {},
   "source": [
    "## Examining the Signed PSBT\n",
    "\n",
    "It can be helpful to look at the decoded version of the PSBT, which contains all the information encoded in the PSBT."
   ]
  },
  {
   "cell_type": "code",
   "execution_count": null,
   "metadata": {},
   "outputs": [],
   "source": [
    "node.decodepsbt(psbt[\"psbt\"])"
   ]
  },
  {
   "cell_type": "markdown",
   "metadata": {},
   "source": [
    "## Signing the PSBT\n",
    "\n",
    "We just created the unsigned PSBT, and now we need to sign it. We use the [`walletprocesspsbt`](https://bitcoincore.org/en/doc/0.18.0/rpc/wallet/walletprocesspsbt/) RPC to do that."
   ]
  },
  {
   "cell_type": "code",
   "execution_count": null,
   "metadata": {},
   "outputs": [],
   "source": [
    "psbt = node.walletprocesspsbt(psbt[\"psbt\"])\n",
    "print(psbt)"
   ]
  },
  {
   "cell_type": "markdown",
   "metadata": {},
   "source": [
    "## Analyzing the Signed PSBT\n",
    "\n",
    "We can also analyze PSBTs with the `analyzepsbt` RPC. A signature has been added to the PSBT, which we can see by the `is_final` property. The next step in the process is `extractor`, so we know a signed transaction can be pulled out of the PSBT as this point."
   ]
  },
  {
   "cell_type": "code",
   "execution_count": null,
   "metadata": {},
   "outputs": [],
   "source": [
    "node.analyzepsbt(psbt[\"psbt\"])"
   ]
  },
  {
   "cell_type": "markdown",
   "metadata": {},
   "source": [
    "## Extracting the signed transaction\n",
    "\n",
    "We have the required number of signatures on the PSBT, so we can extract the final signed transaction."
   ]
  },
  {
   "cell_type": "code",
   "execution_count": null,
   "metadata": {},
   "outputs": [],
   "source": [
    "tx = node.finalizepsbt(psbt[\"psbt\"])\n",
    "print(tx)"
   ]
  },
  {
   "cell_type": "markdown",
   "metadata": {},
   "source": [
    "## Sending the transaction\n",
    "\n",
    "Finally, the signed transaction can be broadcast, and we can mine a block to recieve the coins on our second address."
   ]
  },
  {
   "cell_type": "code",
   "execution_count": null,
   "metadata": {},
   "outputs": [],
   "source": [
    "txid = node.sendrawtransaction(tx[\"hex\"])\n",
    "print(f'tx id: {txid}')\n",
    "\n",
    "node.generate(1)"
   ]
  },
  {
   "cell_type": "markdown",
   "metadata": {},
   "source": [
    "The coins have now been received on the second address. This can be verified using the `listunspent` RPC, where there are three unspents now on the wallet. This is expected, since we have the two outputs from our transaction, and one more coinbase maturity due to the block generation."
   ]
  },
  {
   "cell_type": "code",
   "execution_count": null,
   "metadata": {},
   "outputs": [],
   "source": [
    "node.listunspent()"
   ]
  },
  {
   "cell_type": "markdown",
   "metadata": {},
   "source": [
    "# Conclusion\n",
    "\n",
    "In this notebook, we created, signed, and broadcast a simple PSBT. In the next notebook, we'll look at a more complex PSBT involving a multisig address and multiple signers."
   ]
  }
 ],
 "metadata": {
  "kernelspec": {
   "display_name": "Python 3",
   "language": "python",
   "name": "python3"
  },
  "language_info": {
   "codemirror_mode": {
    "name": "ipython",
    "version": 3
   },
   "file_extension": ".py",
   "mimetype": "text/x-python",
   "name": "python",
   "nbconvert_exporter": "python",
   "pygments_lexer": "ipython3",
   "version": "3.7.6"
  }
 },
 "nbformat": 4,
 "nbformat_minor": 4
}
