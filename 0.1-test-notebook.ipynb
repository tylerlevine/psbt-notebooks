{
 "cells": [
  {
   "cell_type": "markdown",
   "metadata": {},
   "source": [
    "#### Welcome to Jupyter\n",
    "\n",
    "This is a Jupyer Notebook. It contains both computer code (e.g. python) and rich text elements (paragraph, equations, figures, links, etc…). This paragraph is an example of the rich text element. You can double click on this paragraph 'cell' to edit it. \n",
    "\n",
    "Below is a code block. You can double click to edit it. You can also run the code step-by-step (one cell a time) by pressing shift + enter when you have the cell selected."
   ]
  },
  {
   "cell_type": "code",
   "execution_count": 1,
   "metadata": {},
   "outputs": [
    {
     "data": {
      "text/plain": [
       "21"
      ]
     },
     "execution_count": 1,
     "metadata": {},
     "output_type": "execute_result"
    }
   ],
   "source": [
    "14 + 7"
   ]
  },
  {
   "cell_type": "markdown",
   "metadata": {},
   "source": [
    "#### Verify that the bitcoind source directory is correctly configured and import the TestWrapper\n",
    "\n",
    "The source directory for your local Optech Taproot (Taproot_V0.1.4 tag) bitcoin repo should already be configured. If it isn't, update the `SOURCE_DIRECTORY` line to reference the Optech Taproot bitcoin repo directory.\n",
    "\n",
    "This will be used to access the TestFramework Python code and the taproot-compatible bitcoind binary.\n",
    "\n",
    "The import below will fail if `SOURCE_DIRECTORY` is not configured or misconfigured:\n",
    "\n",
    "- `SOURCE_DIRECTORY not configured! Edit config.ini to configure SOURCE_DIRECTORY` means that no directory has been configured.\n",
    "- `ModuleNotFoundError: No module named 'test_framework'` means that the specified directory is not a Bitcoin Core branch."
   ]
  },
  {
   "cell_type": "code",
   "execution_count": 2,
   "metadata": {},
   "outputs": [
    {
     "name": "stdout",
     "output_type": "stream",
     "text": [
      "Source directory configured as /Users/f0rks/src/bitcoin\n"
     ]
    }
   ],
   "source": [
    "from util import TestWrapper"
   ]
  },
  {
   "cell_type": "markdown",
   "metadata": {},
   "source": [
    "#### Create TestWrapper object\n",
    "\n",
    "We provide a test wrapper class which allows the user to leverage the test framework utilites in external Python projects, such as this notebook. The test wrapper provides RPC access to bitcoind instances directly from the Jupyter notebook cell or any other external python project.\n",
    "\n",
    "When `setup` is called, the test wrapper will automatically start a network of 3 bitcoind daemon subprocesses, which can be accessed through the RPC interface. We will use this frequently in this workshop to broadcast schnorr & taproot transactions."
   ]
  },
  {
   "cell_type": "markdown",
   "metadata": {},
   "source": [
    "![test_wrapper_object_lifetime](images/intro0.jpg)"
   ]
  },
  {
   "cell_type": "markdown",
   "metadata": {},
   "source": [
    "The command below requires the Optech taproot branch to be checked out. If it fails, then you may have entered the source directory above incorrectly or checked out the wrong branch.\n",
    "\n",
    "- An error of `AttributeError: 'super' object has no attribute 'setup'` means that the `SOURCE_DIRECTORY` does not point to the Optech Taproot branch."
   ]
  },
  {
   "cell_type": "code",
   "execution_count": 3,
   "metadata": {},
   "outputs": [
    {
     "name": "stdout",
     "output_type": "stream",
     "text": [
      "2020-03-02T06:36:29.089000Z TestFramework./var/folders/gz/9tjf4mqd74n73p6n8584mkjr0000gn/T/bitcoin_func_test_3crvouaf (INFO): Initializing test directory /var/folders/gz/9tjf4mqd74n73p6n8584mkjr0000gn/T/bitcoin_func_test_3crvouaf\n"
     ]
    }
   ],
   "source": [
    "test = TestWrapper()\n",
    "# Start TestNodes\n",
    "\n",
    "test.setup()"
   ]
  },
  {
   "cell_type": "markdown",
   "metadata": {},
   "source": [
    "#### Check node version\n",
    "\n",
    "This command checks the version of the bitcoind client. Note that `getnetworkinfo` is simply a Bitcoin RPC command.\n",
    "\n",
    "If it fails, then the bitcoind binary in the source directory is not the Optech Taproot version."
   ]
  },
  {
   "cell_type": "code",
   "execution_count": 5,
   "metadata": {},
   "outputs": [
    {
     "name": "stdout",
     "output_type": "stream",
     "text": [
      "Client version is /Satoshi:0.19.99(testnode0)/\n"
     ]
    }
   ],
   "source": [
    "version = test.nodes[0].getnetworkinfo()['subversion']\n",
    "print(\"Client version is {}\".format(version))"
   ]
  },
  {
   "cell_type": "markdown",
   "metadata": {},
   "source": [
    "#### Shutdown TestNodes\n",
    "\n",
    "This shuts down the bitcoind instances cleanly and does other housekeeping (eg deleting log directories).\n",
    "\n",
    "This needs to be done at the end of every notebook."
   ]
  },
  {
   "cell_type": "code",
   "execution_count": 6,
   "metadata": {},
   "outputs": [
    {
     "name": "stdout",
     "output_type": "stream",
     "text": [
      "2020-03-02T06:36:55.825000Z TestFramework./var/folders/gz/9tjf4mqd74n73p6n8584mkjr0000gn/T/bitcoin_func_test_3crvouaf (INFO): Stopping nodes\n",
      "2020-03-02T06:36:56.141000Z TestFramework./var/folders/gz/9tjf4mqd74n73p6n8584mkjr0000gn/T/bitcoin_func_test_3crvouaf (INFO): Cleaning up /var/folders/gz/9tjf4mqd74n73p6n8584mkjr0000gn/T/bitcoin_func_test_3crvouaf on exit\n",
      "2020-03-02T06:36:56.142000Z TestFramework./var/folders/gz/9tjf4mqd74n73p6n8584mkjr0000gn/T/bitcoin_func_test_3crvouaf (INFO): Tests successful\n"
     ]
    }
   ],
   "source": [
    "# Shutdown TestNodes\n",
    "test.shutdown()"
   ]
  },
  {
   "cell_type": "markdown",
   "metadata": {},
   "source": [
    "*Things to keep in mind:*\n",
    "* Separate test wrapper `setup`, `shutdown` and your code into different cells. This ensures that an error in your code does not affect the test wrapper object and prevents orphaned subprocesses.\n",
    "* Only run one test wrapper object at a time.\n",
    "* If the subprocesses do become orphaned somehow, you can run the following:\n",
    " * `ps -ax | grep bitcoind` to see outstanding bitcoind processes.\n",
    " * `kill \"pid\"` to shut them down manually.\n"
   ]
  },
  {
   "cell_type": "markdown",
   "metadata": {},
   "source": [
    "#### You're ready for the workshop!\n",
    "\n",
    "If you were able to successfully execute the steps above, you are ready for the workshop!"
   ]
  },
  {
   "cell_type": "code",
   "execution_count": null,
   "metadata": {},
   "outputs": [],
   "source": []
  }
 ],
 "metadata": {
  "kernelspec": {
   "display_name": "Python 3",
   "language": "python",
   "name": "python3"
  },
  "language_info": {
   "codemirror_mode": {
    "name": "ipython",
    "version": 3
   },
   "file_extension": ".py",
   "mimetype": "text/x-python",
   "name": "python",
   "nbconvert_exporter": "python",
   "pygments_lexer": "ipython3",
   "version": "3.7.6"
  }
 },
 "nbformat": 4,
 "nbformat_minor": 2
}
